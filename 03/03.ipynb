{
 "cells": [
  {
   "cell_type": "code",
   "execution_count": 1,
   "metadata": {},
   "outputs": [],
   "source": [
    "import numpy as np\n",
    "\n",
    "\n",
    "def load_data(fp:str) -> list:\n",
    "    with open(fp, \"r\") as f:\n",
    "        # instructions = [value for value in f.readline().split(\",\")]\n",
    "        lines = f.readlines()\n",
    "\n",
    "    instructions_list = []\n",
    "    for line in lines:\n",
    "        instructions_list.append(\n",
    "            [value for value in line.split(\",\")]\n",
    "        )\n",
    "    return instructions_list\n",
    "\n",
    "\n",
    "def get_wire_coords(x, y, movecode):\n",
    "    direction = movecode[0]\n",
    "    n_steps = int(movecode[1:])\n",
    "\n",
    "    if direction == \"L\":\n",
    "        return ((x - n, y) for n in range(1, n_steps + 1))\n",
    "    elif direction == \"R\":\n",
    "        return ((x + n, y) for n in range(1, n_steps + 1))\n",
    "    elif direction == \"U\":\n",
    "        return ((x, y + n) for n in range(1, n_steps + 1))\n",
    "    elif direction == \"D\":\n",
    "        return ((x, y - n) for n in range(1, n_steps + 1))"
   ]
  },
  {
   "cell_type": "markdown",
   "metadata": {},
   "source": [
    "Get wire grid coordinates"
   ]
  },
  {
   "cell_type": "code",
   "execution_count": 2,
   "metadata": {},
   "outputs": [],
   "source": [
    "coords = []\n",
    "for movecodes in load_data(\"input.txt\"):\n",
    "    x, y, = (0, 0)\n",
    "    wire_coords = []\n",
    "    for movecode in movecodes:\n",
    "        for coord in get_wire_coords(x, y, movecode):\n",
    "            wire_coords.append(coord)\n",
    "        x, y = coord\n",
    "    coords.append(wire_coords)"
   ]
  },
  {
   "cell_type": "code",
   "execution_count": 3,
   "metadata": {},
   "outputs": [],
   "source": [
    "intersections = list(set(coords[0]) & set(coords[1]))"
   ]
  },
  {
   "cell_type": "markdown",
   "metadata": {},
   "source": [
    "### 01) Smallest Manhatten distance:"
   ]
  },
  {
   "cell_type": "code",
   "execution_count": 4,
   "metadata": {},
   "outputs": [
    {
     "data": {
      "text/plain": [
       "860"
      ]
     },
     "execution_count": 4,
     "metadata": {},
     "output_type": "execute_result"
    }
   ],
   "source": [
    "np.abs(np.array(intersections)).sum(axis=1).min()"
   ]
  },
  {
   "cell_type": "markdown",
   "metadata": {},
   "source": [
    "### 02) Sum of shortest intersection by wire:"
   ]
  },
  {
   "cell_type": "code",
   "execution_count": 5,
   "metadata": {},
   "outputs": [],
   "source": [
    "combinations = []\n",
    "for n, coord in enumerate(coords[0]):\n",
    "    if coord in intersections:\n",
    "        for m, other_coord in enumerate(coords[1]):\n",
    "            if other_coord == coord:\n",
    "                combinations.append([n + 1, m + 1])\n",
    "\n",
    "combinations = np.array(combinations)"
   ]
  },
  {
   "cell_type": "code",
   "execution_count": 6,
   "metadata": {},
   "outputs": [
    {
     "data": {
      "text/plain": [
       "9238"
      ]
     },
     "execution_count": 6,
     "metadata": {},
     "output_type": "execute_result"
    }
   ],
   "source": [
    "combinations.sum(axis=1).min()"
   ]
  }
 ],
 "metadata": {
  "file_extension": ".py",
  "kernelspec": {
   "display_name": "Python 3",
   "language": "python",
   "name": "python3"
  },
  "language_info": {
   "codemirror_mode": {
    "name": "ipython",
    "version": 3
   },
   "file_extension": ".py",
   "mimetype": "text/x-python",
   "name": "python",
   "nbconvert_exporter": "python",
   "pygments_lexer": "ipython3",
   "version": "3.7.0"
  },
  "mimetype": "text/x-python",
  "name": "python",
  "npconvert_exporter": "python",
  "pygments_lexer": "ipython3",
  "version": 3
 },
 "nbformat": 4,
 "nbformat_minor": 2
}
